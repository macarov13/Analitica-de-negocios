{
  "nbformat": 4,
  "nbformat_minor": 0,
  "metadata": {
    "colab": {
      "provenance": [],
      "authorship_tag": "ABX9TyMN7CdP29hW8J6xIoBD+lUi",
      "include_colab_link": true
    },
    "kernelspec": {
      "name": "python3",
      "display_name": "Python 3"
    },
    "language_info": {
      "name": "python"
    }
  },
  "cells": [
    {
      "cell_type": "markdown",
      "metadata": {
        "id": "view-in-github",
        "colab_type": "text"
      },
      "source": [
        "<a href=\"https://colab.research.google.com/github/macarov13/Analitica-de-negocios/blob/main/2do_modelo_Arbol.ipynb\" target=\"_parent\"><img src=\"https://colab.research.google.com/assets/colab-badge.svg\" alt=\"Open In Colab\"/></a>"
      ]
    },
    {
      "cell_type": "markdown",
      "source": [
        "**Arboles de Decisión**\n",
        "0. Cargar las librerias de referencia para el modelo"
      ],
      "metadata": {
        "id": "WiaqDOYamdh4"
      }
    },
    {
      "cell_type": "code",
      "source": [
        "import numpy as np\n",
        "import pandas as pd\n",
        "import matplotlib.pyplot as plt #Graficador de cosas\n",
        "from sklearn.tree import DecisionTreeClassifier"
      ],
      "metadata": {
        "id": "nY4JvFczmqDL"
      },
      "execution_count": null,
      "outputs": []
    },
    {
      "cell_type": "code",
      "source": [
        "#Para no tener que cargar el archivo\n",
        "from google.colab import drive\n",
        "drive.mount('/content/drive')"
      ],
      "metadata": {
        "colab": {
          "base_uri": "https://localhost:8080/"
        },
        "id": "fMhvREUUnrbj",
        "outputId": "55df41bf-d360-4235-a813-bdc5aa061203"
      },
      "execution_count": null,
      "outputs": [
        {
          "output_type": "stream",
          "name": "stdout",
          "text": [
            "Drive already mounted at /content/drive; to attempt to forcibly remount, call drive.mount(\"/content/drive\", force_remount=True).\n"
          ]
        }
      ]
    },
    {
      "cell_type": "markdown",
      "source": [
        "1. Se procede a la carga de datos del archivo"
      ],
      "metadata": {
        "id": "LPfT9iYspTna"
      }
    },
    {
      "cell_type": "code",
      "source": [
        "nxl='/content/drive/MyDrive/Colab Notebooks/0. SolicitantesCrédito(USD) (1).xlsx'\n",
        "XDB=pd.read_excel(nxl,sheet_name=1)\n",
        "XDB=XDB.dropna() #Elimina celdas vacias\n",
        "XDB.head(100)\n",
        "\n",
        "#Se procede con la selección de las variables\n",
        "XD=np.array(XDB[['Edad', 'Ingresos', 'Egresos', 'Monto (EAD)']]) #Datos entrada\n",
        "print(XD)\n",
        "yd=np.array(XDB[['PreApr']]) #Dato que quiero que el modelo pronostique\n",
        "print(yd)"
      ],
      "metadata": {
        "colab": {
          "base_uri": "https://localhost:8080/"
        },
        "id": "yfRBdoL4pZ7w",
        "outputId": "5f933d03-7214-458c-8ea7-fa8e15220048"
      },
      "execution_count": null,
      "outputs": [
        {
          "output_type": "stream",
          "name": "stdout",
          "text": [
            "[[  38.         1356.144      1685.62266667  625.56223022]\n",
            " [  51.          286.016       364.462       140.03198442]\n",
            " [  37.          517.46325     629.20888889  284.56449156]\n",
            " ...\n",
            " [  38.          773.01975     672.91066667  594.94789369]\n",
            " [  43.          635.50175     780.69155556  305.58053861]\n",
            " [  37.         1419.26675    1169.83844444 1005.63687051]]\n",
            "[[1]\n",
            " [1]\n",
            " [0]\n",
            " ...\n",
            " [1]\n",
            " [1]\n",
            " [1]]\n"
          ]
        }
      ]
    },
    {
      "cell_type": "markdown",
      "source": [
        "2. Creación del modelo - Decision tree\n",
        "\n"
      ],
      "metadata": {
        "id": "clokrDcQsK3l"
      }
    },
    {
      "cell_type": "code",
      "source": [
        "mar=DecisionTreeClassifier(criterion='gini', max_depth=4) #4 niveles o variables de entrada\n",
        "mar.fit(XD,yd)\n",
        "ydp=mar.predict(XD)\n",
        "\n",
        "from sklearn.metrics import confusion_matrix\n",
        "cm=confusion_matrix(yd,ydp)\n",
        "print(cm)\n",
        "\n",
        "#Evaluamos el modelo\n",
        "VN=cm[0,0]; FP=cm[0,1]; FN=cm[1,0]; VP=cm[1,1]\n",
        "\n",
        "Ex=(VN+VP)/(VN+VP+FN+FP) #Que porcentaje de los datos pronostico correctamente\n",
        "print(\"La exactitud alcanzada por el modelo es:\", Ex)\n",
        "\n",
        "Se=VP/(VP+FN) #Que porcentaje de los datos positivos pronosticados correctamente\n",
        "print(\"La sensibilidad alcanzada por el modelo es:\", Se)\n",
        "\n",
        "Es=VN/(VN+FP) #Que porcentaje de los datos negativos pronosticados correctamente\n",
        "print(\"La especificidad alcanzada por el modelo es:\", Es)\n",
        "\n",
        "#Este modelo tiene preferencia por los pre-negados"
      ],
      "metadata": {
        "colab": {
          "base_uri": "https://localhost:8080/"
        },
        "id": "0mBKgGsPsOPu",
        "outputId": "c7729d81-a8bb-4b5f-be78-7c59bdb18be2"
      },
      "execution_count": null,
      "outputs": [
        {
          "output_type": "stream",
          "name": "stdout",
          "text": [
            "[[2301  658]\n",
            " [ 644 2239]]\n",
            "La exactitud alcanzada por el modelo es: 0.7771311194796303\n",
            "La sensibilidad alcanzada por el modelo es: 0.7766215747485259\n",
            "La especificidad alcanzada por el modelo es: 0.7776275768840825\n"
          ]
        }
      ]
    },
    {
      "cell_type": "markdown",
      "source": [
        "3. ¿Y, donde esta el arbol?"
      ],
      "metadata": {
        "id": "WP7mDlOfvuMv"
      }
    },
    {
      "cell_type": "code",
      "source": [
        "#Librerias para graficar el árbol\n",
        "from sklearn.tree import export_graphviz\n",
        "from pydotplus import graph_from_dot_data\n",
        "\n",
        "vs=['Edad', 'Ingresos', 'Egresos', 'Monto (EAD)'] #Titulos para los nodos\n",
        "dot_graph=export_graphviz(mar, feature_names=vs)\n",
        "graph=graph_from_dot_data(dot_graph)\n",
        "graph.write_png('arbol.png')"
      ],
      "metadata": {
        "colab": {
          "base_uri": "https://localhost:8080/",
          "height": 211
        },
        "id": "FC6vTCm3vzAC",
        "outputId": "a94caad8-c39f-4e35-85e2-892a03e7f267",
        "collapsed": true
      },
      "execution_count": null,
      "outputs": [
        {
          "output_type": "error",
          "ename": "NameError",
          "evalue": "name 'mar' is not defined",
          "traceback": [
            "\u001b[0;31m---------------------------------------------------------------------------\u001b[0m",
            "\u001b[0;31mNameError\u001b[0m                                 Traceback (most recent call last)",
            "\u001b[0;32m<ipython-input-1-73f67c2a8fd7>\u001b[0m in \u001b[0;36m<cell line: 6>\u001b[0;34m()\u001b[0m\n\u001b[1;32m      4\u001b[0m \u001b[0;34m\u001b[0m\u001b[0m\n\u001b[1;32m      5\u001b[0m \u001b[0mvs\u001b[0m\u001b[0;34m=\u001b[0m\u001b[0;34m[\u001b[0m\u001b[0;34m'Edad'\u001b[0m\u001b[0;34m,\u001b[0m \u001b[0;34m'Ingresos'\u001b[0m\u001b[0;34m,\u001b[0m \u001b[0;34m'Egresos'\u001b[0m\u001b[0;34m,\u001b[0m \u001b[0;34m'Monto (EAD)'\u001b[0m\u001b[0;34m]\u001b[0m \u001b[0;31m#Titulos para los nodos\u001b[0m\u001b[0;34m\u001b[0m\u001b[0;34m\u001b[0m\u001b[0m\n\u001b[0;32m----> 6\u001b[0;31m \u001b[0mdot_graph\u001b[0m\u001b[0;34m=\u001b[0m\u001b[0mexport_graphviz\u001b[0m\u001b[0;34m(\u001b[0m\u001b[0mmar\u001b[0m\u001b[0;34m,\u001b[0m \u001b[0mfeature_names\u001b[0m\u001b[0;34m=\u001b[0m\u001b[0mvs\u001b[0m\u001b[0;34m)\u001b[0m\u001b[0;34m\u001b[0m\u001b[0;34m\u001b[0m\u001b[0m\n\u001b[0m\u001b[1;32m      7\u001b[0m \u001b[0mgraph\u001b[0m\u001b[0;34m=\u001b[0m\u001b[0mgraph_from_dot_data\u001b[0m\u001b[0;34m(\u001b[0m\u001b[0mdot_graph\u001b[0m\u001b[0;34m)\u001b[0m\u001b[0;34m\u001b[0m\u001b[0;34m\u001b[0m\u001b[0m\n\u001b[1;32m      8\u001b[0m \u001b[0mgraph\u001b[0m\u001b[0;34m.\u001b[0m\u001b[0mwrite_png\u001b[0m\u001b[0;34m(\u001b[0m\u001b[0;34m'arbol.png'\u001b[0m\u001b[0;34m)\u001b[0m\u001b[0;34m\u001b[0m\u001b[0;34m\u001b[0m\u001b[0m\n",
            "\u001b[0;31mNameError\u001b[0m: name 'mar' is not defined"
          ]
        }
      ]
    },
    {
      "cell_type": "markdown",
      "source": [
        "Hay 5842 datos.\n",
        "2959 prenegados.\n",
        "2883 preaprobados.\n"
      ],
      "metadata": {
        "id": "SOX9Q0UAx9Gq"
      }
    },
    {
      "cell_type": "markdown",
      "source": [
        "4. Se procede con el pronostico de los nuevos solicitantes"
      ],
      "metadata": {
        "id": "dDNZIe_g6Oeu"
      }
    },
    {
      "cell_type": "code",
      "source": [
        "XDB2=pd.read_excel(nxl,sheet_name=2)\n",
        "XDB2=XDB2.dropna() #Elimina celdas vacias\n",
        "XDB2.head(100)\n",
        "\n",
        "XD2=np.array(XDB2[['Edad','Ingresos','Egresos','Monto (EAD)']]) #Datos entrada\n",
        "print(XD2)\n",
        "\n",
        "#Pronosticamos la aprobacion\n",
        "ydp2=mar.predict(XD2)\n",
        "print(ydp2)\n",
        "\n",
        "print(\"El numero de PreAprobados es:\", np.sum(ydp2))\n",
        "print(\"El numero total de datos es:\", len(ydp2))\n",
        "print(\"El numero de PreNegados es:\", len(ydp2)-np.sum(ydp2))\n"
      ],
      "metadata": {
        "colab": {
          "base_uri": "https://localhost:8080/"
        },
        "id": "gg5LVYDJ6T18",
        "outputId": "21d44ef2-1b38-4c58-e10b-96daf6346d67"
      },
      "execution_count": null,
      "outputs": [
        {
          "output_type": "stream",
          "name": "stdout",
          "text": [
            "[[  38.          383.67775     368.59866667  175.84723507]\n",
            " [  47.           34.1875       38.03444444   26.95587069]\n",
            " [  46.         1774.305      2116.72377778  705.43470796]\n",
            " ...\n",
            " [  32.          283.26575     170.26644444  225.30034584]\n",
            " [  35.          768.288       847.26444444  479.16423193]\n",
            " [  24.          487.598       376.18355556  424.283721  ]]\n",
            "[0 0 1 ... 0 1 0]\n",
            "El numero de PreAprobados es: 1260\n",
            "El numero total de datos es: 2536\n",
            "El numero de PreNegados es: 1276\n"
          ]
        }
      ]
    },
    {
      "cell_type": "markdown",
      "source": [
        "**Analisis de resultados**\n",
        "\n",
        "De acuerdo con la base de datos suministradas y el nodo base del arbol de decision se puede observar un total de 5842 datos, divididos en 2959 PreAprobados y un total de 2883 PreNegados, esto representa el 51% y el 49% respectivamente. De acuerdo con el pronostico realizado por el modelo, este alncanzó una exactitud cercana al 77%, valores que fueron similares a la sensibilidad que mide el comportamiento del modelo frente a la clasificación de los PreAprobados, asi como frente a la especificidad indicador que mide el comportamiento del modelo frente a la clasificacion de los PreNegados.\n",
        "\n",
        "Se destaca el unico nodo puro \"(PreNeg:10, PreApro: 0)\", en donde los solicitantes de credito deben cumplir con la siguiente regla: SI Ing>644 AND Egr<=685 AND Ing>376 AND Monto>=322.\n",
        "\n",
        "Con respecto al pronostico, se puede observar un total de 2536 individuos sin PreAprobacion, de los cuales un total de 1260 pueden ser PreAprobados y un total de 1276 que pueden ser PreNegados."
      ],
      "metadata": {
        "id": "EJwnq2s380tR"
      }
    }
  ]
}